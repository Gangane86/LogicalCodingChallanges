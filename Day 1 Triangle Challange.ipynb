{
 "cells": [
  {
   "cell_type": "code",
   "execution_count": 1,
   "metadata": {},
   "outputs": [
    {
     "name": "stdout",
     "output_type": "stream",
     "text": [
      "No of Lines:5\n"
     ]
    }
   ],
   "source": [
    "n=int(input(\"No of Lines:\"))"
   ]
  },
  {
   "cell_type": "markdown",
   "metadata": {},
   "source": [
    "## 1) Left Align Triangle"
   ]
  },
  {
   "cell_type": "code",
   "execution_count": 3,
   "metadata": {},
   "outputs": [
    {
     "name": "stdout",
     "output_type": "stream",
     "text": [
      "1\n",
      "11\n",
      "111\n",
      "1111\n",
      "11111\n"
     ]
    }
   ],
   "source": [
    "for i in range(1,n+1):\n",
    "    for j in range(i):\n",
    "        print('1', end='')\n",
    "    print()"
   ]
  },
  {
   "cell_type": "markdown",
   "metadata": {},
   "source": [
    "## 2) Reverse Left Align Triangle"
   ]
  },
  {
   "cell_type": "code",
   "execution_count": 4,
   "metadata": {},
   "outputs": [
    {
     "name": "stdout",
     "output_type": "stream",
     "text": [
      "11111\n",
      "1111\n",
      "111\n",
      "11\n",
      "1\n"
     ]
    }
   ],
   "source": [
    "for i in range(n,0,-1):\n",
    "    for j in range(i):\n",
    "        print('1', end='')\n",
    "    print()"
   ]
  },
  {
   "cell_type": "markdown",
   "metadata": {},
   "source": [
    "## 3) Right Align Triangle"
   ]
  },
  {
   "cell_type": "code",
   "execution_count": 5,
   "metadata": {},
   "outputs": [
    {
     "name": "stdout",
     "output_type": "stream",
     "text": [
      "    1\n",
      "   11\n",
      "  111\n",
      " 1111\n",
      "11111\n"
     ]
    }
   ],
   "source": [
    "for i in range(1,n+1):\n",
    "    space=(n-i)*' '\n",
    "    print(space+i*'1')"
   ]
  },
  {
   "cell_type": "markdown",
   "metadata": {},
   "source": [
    "## 4) Reverse Right Align Triangle"
   ]
  },
  {
   "cell_type": "code",
   "execution_count": 6,
   "metadata": {},
   "outputs": [
    {
     "name": "stdout",
     "output_type": "stream",
     "text": [
      "11111\n",
      " 1111\n",
      "  111\n",
      "   11\n",
      "    1\n"
     ]
    }
   ],
   "source": [
    "for i in range(n,0,-1):\n",
    "    space=(n-i)*' '\n",
    "    print(space+i*'1')"
   ]
  },
  {
   "cell_type": "markdown",
   "metadata": {},
   "source": [
    "## 5) Center Align Triangle"
   ]
  },
  {
   "cell_type": "code",
   "execution_count": 7,
   "metadata": {},
   "outputs": [
    {
     "name": "stdout",
     "output_type": "stream",
     "text": [
      "    1    \n",
      "   111   \n",
      "  11111  \n",
      " 1111111 \n",
      "111111111\n"
     ]
    }
   ],
   "source": [
    "for i in range(1,n+1):\n",
    "    spaces=(n-i)*' '\n",
    "    numbers=(i+(i-1))*'1'\n",
    "    print(spaces +numbers+spaces)\n"
   ]
  },
  {
   "cell_type": "markdown",
   "metadata": {},
   "source": [
    "## 6)  Reverse Center Align Triangle"
   ]
  },
  {
   "cell_type": "code",
   "execution_count": 9,
   "metadata": {},
   "outputs": [
    {
     "name": "stdout",
     "output_type": "stream",
     "text": [
      "111111111\n",
      " 1111111 \n",
      "  11111  \n",
      "   111   \n",
      "    1    \n"
     ]
    }
   ],
   "source": [
    "for i in range(n,0,-1):\n",
    "    spaces=(n-i)*' '\n",
    "    numbers=(i+(i-1))*'1'\n",
    "    print(spaces +numbers+spaces)"
   ]
  },
  {
   "cell_type": "code",
   "execution_count": null,
   "metadata": {},
   "outputs": [],
   "source": []
  }
 ],
 "metadata": {
  "kernelspec": {
   "display_name": "Python 3",
   "language": "python",
   "name": "python3"
  },
  "language_info": {
   "codemirror_mode": {
    "name": "ipython",
    "version": 3
   },
   "file_extension": ".py",
   "mimetype": "text/x-python",
   "name": "python",
   "nbconvert_exporter": "python",
   "pygments_lexer": "ipython3",
   "version": "3.7.5"
  }
 },
 "nbformat": 4,
 "nbformat_minor": 2
}
