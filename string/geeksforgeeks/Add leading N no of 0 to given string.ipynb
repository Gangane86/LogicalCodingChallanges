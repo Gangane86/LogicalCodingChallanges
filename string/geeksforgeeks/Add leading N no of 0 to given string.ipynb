{
 "cells": [
  {
   "cell_type": "markdown",
   "metadata": {},
   "source": [
    "## Problem Statement"
   ]
  },
  {
   "cell_type": "raw",
   "metadata": {},
   "source": [
    "create a new modified string after adding zeros characters at starting of input string"
   ]
  },
  {
   "cell_type": "raw",
   "metadata": {},
   "source": [
    "Input text  : abcd\n",
    "String Width: 6\n",
    "\n",
    "Output : 00abcd"
   ]
  },
  {
   "cell_type": "code",
   "execution_count": 1,
   "metadata": {},
   "outputs": [
    {
     "name": "stdout",
     "output_type": "stream",
     "text": [
      "Input text :abcd\n",
      "width :6\n",
      "00abcd\n"
     ]
    }
   ],
   "source": [
    "def Lead(text,width):\n",
    "    return text.zfill(width)\n",
    "\n",
    "text = input(\"Input text :\")\n",
    "width = int(input(\"width :\"))\n",
    "result = Lead(text,width)\n",
    "print(result)"
   ]
  },
  {
   "cell_type": "code",
   "execution_count": null,
   "metadata": {},
   "outputs": [],
   "source": []
  }
 ],
 "metadata": {
  "kernelspec": {
   "display_name": "Python 3",
   "language": "python",
   "name": "python3"
  },
  "language_info": {
   "codemirror_mode": {
    "name": "ipython",
    "version": 3
   },
   "file_extension": ".py",
   "mimetype": "text/x-python",
   "name": "python",
   "nbconvert_exporter": "python",
   "pygments_lexer": "ipython3",
   "version": "3.7.5"
  }
 },
 "nbformat": 4,
 "nbformat_minor": 2
}
