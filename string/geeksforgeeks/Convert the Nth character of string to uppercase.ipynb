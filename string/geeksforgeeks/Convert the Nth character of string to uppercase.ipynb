{
 "cells": [
  {
   "cell_type": "markdown",
   "metadata": {},
   "source": [
    "## Problem Statement\n",
    "### convert the Nth character of string to uppercase"
   ]
  },
  {
   "cell_type": "markdown",
   "metadata": {},
   "source": [
    "#### Input\n",
    "Input : Hellopython\n",
    "index : 6\n",
    "#### Output\n",
    "HelloPython"
   ]
  },
  {
   "cell_type": "code",
   "execution_count": 1,
   "metadata": {},
   "outputs": [
    {
     "name": "stdout",
     "output_type": "stream",
     "text": [
      "Input Text:Hellopython\n",
      "index:6\n",
      "HelloPython\n"
     ]
    }
   ],
   "source": [
    "def UpperByIndex(text,index):\n",
    "    upperword = text[index-1:].title()\n",
    "    result = text[:index-1]+upperword\n",
    "    return result\n",
    "text = input(\"Input Text:\")\n",
    "index = int(input(\"index:\"))\n",
    "result = UpperByIndex(text,index)\n",
    "print(result)"
   ]
  },
  {
   "cell_type": "code",
   "execution_count": null,
   "metadata": {},
   "outputs": [],
   "source": []
  }
 ],
 "metadata": {
  "kernelspec": {
   "display_name": "Python 3",
   "language": "python",
   "name": "python3"
  },
  "language_info": {
   "codemirror_mode": {
    "name": "ipython",
    "version": 3
   },
   "file_extension": ".py",
   "mimetype": "text/x-python",
   "name": "python",
   "nbconvert_exporter": "python",
   "pygments_lexer": "ipython3",
   "version": "3.7.5"
  }
 },
 "nbformat": 4,
 "nbformat_minor": 2
}
