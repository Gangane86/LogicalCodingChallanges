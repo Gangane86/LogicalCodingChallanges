{
 "cells": [
  {
   "cell_type": "markdown",
   "metadata": {},
   "source": [
    "## Problem Statement\n",
    "### create an 4 digit OTP by squaring and concatenating the odd digits of a number(First 4 Digit)"
   ]
  },
  {
   "cell_type": "markdown",
   "metadata": {},
   "source": [
    " #### Usecase 1\n",
    " Input text : 123456\n",
    " Output text: 4163\n",
    " \n",
    "####  Usecase 1\n",
    " Input text : 5356363\n",
    " Output text: 9363"
   ]
  },
  {
   "cell_type": "code",
   "execution_count": 1,
   "metadata": {},
   "outputs": [
    {
     "name": "stdout",
     "output_type": "stream",
     "text": [
      "12345\n",
      "416\n"
     ]
    }
   ],
   "source": [
    "def Otp(text):\n",
    "    length = len(text)\n",
    "    otpresult = \"\"\n",
    "    for i in range(1,length,2):\n",
    "        otpresult+=f\"{int(text[i])**2}\"\n",
    "    return otpresult[:4]\n",
    "\n",
    "text = input()\n",
    "otp = Otp(text)\n",
    "print(otp)"
   ]
  },
  {
   "cell_type": "code",
   "execution_count": null,
   "metadata": {},
   "outputs": [],
   "source": []
  }
 ],
 "metadata": {
  "kernelspec": {
   "display_name": "Python 3",
   "language": "python",
   "name": "python3"
  },
  "language_info": {
   "codemirror_mode": {
    "name": "ipython",
    "version": 3
   },
   "file_extension": ".py",
   "mimetype": "text/x-python",
   "name": "python",
   "nbconvert_exporter": "python",
   "pygments_lexer": "ipython3",
   "version": "3.7.5"
  }
 },
 "nbformat": 4,
 "nbformat_minor": 2
}
