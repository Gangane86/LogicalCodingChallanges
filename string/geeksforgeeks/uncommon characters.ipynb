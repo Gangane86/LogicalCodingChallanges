{
 "cells": [
  {
   "cell_type": "markdown",
   "metadata": {},
   "source": [
    "## Problem Statement\n",
    "### Accept two Strings from the user and return all characters which are uncommon. \n"
   ]
  },
  {
   "cell_type": "markdown",
   "metadata": {},
   "source": [
    "#### Input\n",
    "First String :Hello\n",
    "    \n",
    "Second String:hey\n",
    "#### Output\n",
    "['h', 'y', 'H', 'l', 'l', 'o']"
   ]
  },
  {
   "cell_type": "code",
   "execution_count": 1,
   "metadata": {},
   "outputs": [
    {
     "name": "stdout",
     "output_type": "stream",
     "text": [
      "First String :Hello\n",
      "Second String:hey\n",
      "['h', 'y', 'H', 'l', 'l', 'o']\n"
     ]
    }
   ],
   "source": [
    "def Uncommon(string1,string2):\n",
    "    result = []\n",
    "    \n",
    "    #find uncommon elements from string2\n",
    "    for s1 in string2:\n",
    "        if s1 not in string1:\n",
    "            result.append(s1)\n",
    "    \n",
    "    #find uncommon elements from string1\n",
    "    for s1 in string1:\n",
    "        if s1 not in string2:\n",
    "            result.append(s1)\n",
    "    return result\n",
    "\n",
    "# Driver Code\n",
    "string1 = input(\"First String :\")\n",
    "string2 = input(\"Second String:\")\n",
    "result = Uncommon(string1,string2)\n",
    "print(result)"
   ]
  },
  {
   "cell_type": "code",
   "execution_count": null,
   "metadata": {},
   "outputs": [],
   "source": []
  }
 ],
 "metadata": {
  "kernelspec": {
   "display_name": "Python 3",
   "language": "python",
   "name": "python3"
  },
  "language_info": {
   "codemirror_mode": {
    "name": "ipython",
    "version": 3
   },
   "file_extension": ".py",
   "mimetype": "text/x-python",
   "name": "python",
   "nbconvert_exporter": "python",
   "pygments_lexer": "ipython3",
   "version": "3.7.5"
  }
 },
 "nbformat": 4,
 "nbformat_minor": 2
}
