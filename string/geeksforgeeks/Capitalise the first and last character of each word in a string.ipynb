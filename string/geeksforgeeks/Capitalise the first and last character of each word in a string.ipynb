{
 "cells": [
  {
   "cell_type": "markdown",
   "metadata": {},
   "source": [
    "## Problem Statement"
   ]
  },
  {
   "cell_type": "raw",
   "metadata": {},
   "source": [
    "capitalize the first and last character of each word in a string"
   ]
  },
  {
   "cell_type": "raw",
   "metadata": {},
   "source": [
    "hello python\n",
    "HellO PythoN"
   ]
  },
  {
   "cell_type": "code",
   "execution_count": 1,
   "metadata": {},
   "outputs": [
    {
     "name": "stdout",
     "output_type": "stream",
     "text": [
      "Input text:hello python\n",
      "HellO PythoN\n"
     ]
    }
   ],
   "source": [
    "def Caps(text):\n",
    "    splited_text = text.split()\n",
    "    result = []\n",
    "    for i in splited_text:\n",
    "        res = i[:-1].title()\n",
    "        final = res + i[-1].title()\n",
    "        result.append(final)\n",
    "    return \" \".join(result)\n",
    "text = input(\"Input text:\")\n",
    "result = Caps(text)\n",
    "print(result)"
   ]
  },
  {
   "cell_type": "code",
   "execution_count": null,
   "metadata": {},
   "outputs": [],
   "source": []
  }
 ],
 "metadata": {
  "kernelspec": {
   "display_name": "Python 3",
   "language": "python",
   "name": "python3"
  },
  "language_info": {
   "codemirror_mode": {
    "name": "ipython",
    "version": 3
   },
   "file_extension": ".py",
   "mimetype": "text/x-python",
   "name": "python",
   "nbconvert_exporter": "python",
   "pygments_lexer": "ipython3",
   "version": "3.7.5"
  }
 },
 "nbformat": 4,
 "nbformat_minor": 2
}
