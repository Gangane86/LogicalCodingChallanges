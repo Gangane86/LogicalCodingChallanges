{
 "cells": [
  {
   "cell_type": "markdown",
   "metadata": {},
   "source": [
    "## Problem Statement\n",
    "### Reverse Sort a String"
   ]
  },
  {
   "cell_type": "markdown",
   "metadata": {},
   "source": [
    "#### Input\n",
    "Enter String:Python\n",
    "\n",
    "#### Output\n",
    "ytonhP"
   ]
  },
  {
   "cell_type": "code",
   "execution_count": 1,
   "metadata": {},
   "outputs": [
    {
     "name": "stdout",
     "output_type": "stream",
     "text": [
      "Enter String:Python\n",
      "ytonhP\n"
     ]
    }
   ],
   "source": [
    "def ReverseSorted(text):\n",
    "    length = len(text)\n",
    "    text = sorted(text)\n",
    "    reverse_string = \"\"\n",
    "    for i in range(length):\n",
    "        reverse_string+=text[length-(i+1)]\n",
    "    return reverse_string\n",
    "\n",
    "text = input(\"Enter String:\")\n",
    "result = ReverseSorted(text)\n",
    "print(result)"
   ]
  }
 ],
 "metadata": {
  "kernelspec": {
   "display_name": "Python 3",
   "language": "python",
   "name": "python3"
  },
  "language_info": {
   "codemirror_mode": {
    "name": "ipython",
    "version": 3
   },
   "file_extension": ".py",
   "mimetype": "text/x-python",
   "name": "python",
   "nbconvert_exporter": "python",
   "pygments_lexer": "ipython3",
   "version": "3.7.5"
  }
 },
 "nbformat": 4,
 "nbformat_minor": 2
}
