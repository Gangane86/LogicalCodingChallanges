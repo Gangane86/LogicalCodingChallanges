{
 "cells": [
  {
   "cell_type": "markdown",
   "metadata": {},
   "source": [
    "## Problem Statement\n",
    "### find a substring after given suffix (Left to Right)"
   ]
  },
  {
   "cell_type": "markdown",
   "metadata": {},
   "source": [
    "#### Input\n",
    "input text : HelloPython\n",
    "\n",
    "Suffix     : o\n",
    "\n",
    "#### Output\n",
    "Python"
   ]
  },
  {
   "cell_type": "code",
   "execution_count": 1,
   "metadata": {},
   "outputs": [
    {
     "name": "stdout",
     "output_type": "stream",
     "text": [
      "Input Text:HelloPython\n",
      "Suffix:o\n",
      "Python\n"
     ]
    }
   ],
   "source": [
    "def Extract(text,suffix):\n",
    "    splited_text = text.split(suffix,1)\n",
    "    return splited_text[1]\n",
    "\n",
    "text = input(\"Input Text:\")\n",
    "suffix = input(\"Suffix:\")\n",
    "result = Extract(text,suffix)\n",
    "print(result)"
   ]
  },
  {
   "cell_type": "code",
   "execution_count": null,
   "metadata": {},
   "outputs": [],
   "source": []
  }
 ],
 "metadata": {
  "kernelspec": {
   "display_name": "Python 3",
   "language": "python",
   "name": "python3"
  },
  "language_info": {
   "codemirror_mode": {
    "name": "ipython",
    "version": 3
   },
   "file_extension": ".py",
   "mimetype": "text/x-python",
   "name": "python",
   "nbconvert_exporter": "python",
   "pygments_lexer": "ipython3",
   "version": "3.7.5"
  }
 },
 "nbformat": 4,
 "nbformat_minor": 2
}
