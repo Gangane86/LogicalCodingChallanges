{
 "cells": [
  {
   "cell_type": "markdown",
   "metadata": {},
   "source": [
    "## Factorial Of Number"
   ]
  },
  {
   "cell_type": "raw",
   "metadata": {},
   "source": [
    "Factorial of given number n is\n",
    "\n",
    "Main Formula of Factorial\n",
    "n*(n-1)*(n-2)*(n-3).....*(n-(n-1))\n",
    "\n",
    "Example:\n",
    "Factorial of 5\n",
    "n = 5\n",
    "fact = n*(n-1)*(n-2)*(n-3)*(n-4)\n",
    "fact = 5*(5-1)*(5-2)*(5-3)*(5-4)\n",
    "fact = 5*4*3*2*1\n",
    "fact = 120\n",
    "\n",
    "Factorial of 5 is 120"
   ]
  },
  {
   "cell_type": "markdown",
   "metadata": {},
   "source": [
    "### Using While Loop"
   ]
  },
  {
   "cell_type": "code",
   "execution_count": 1,
   "metadata": {},
   "outputs": [
    {
     "name": "stdout",
     "output_type": "stream",
     "text": [
      "Enter Number:5\n",
      "120\n"
     ]
    }
   ],
   "source": [
    "n = int(input(\"Enter Number:\"))\n",
    "fact = 1\n",
    "while n != 1:\n",
    "    fact = fact*n\n",
    "    n-= 1\n",
    "print(fact)"
   ]
  },
  {
   "cell_type": "markdown",
   "metadata": {},
   "source": [
    "### Using For Loop"
   ]
  },
  {
   "cell_type": "code",
   "execution_count": 2,
   "metadata": {},
   "outputs": [
    {
     "name": "stdout",
     "output_type": "stream",
     "text": [
      "Enter Number:5\n",
      "120\n"
     ]
    }
   ],
   "source": [
    "n = int(input(\"Enter Number:\"))\n",
    "fact = 1\n",
    "for i in range(1,n+1):\n",
    "    fact = fact*i\n",
    "print(fact)"
   ]
  },
  {
   "cell_type": "markdown",
   "metadata": {},
   "source": [
    "### Using Recursion"
   ]
  },
  {
   "cell_type": "code",
   "execution_count": 3,
   "metadata": {},
   "outputs": [
    {
     "name": "stdout",
     "output_type": "stream",
     "text": [
      "Enter Number:5\n",
      "120\n"
     ]
    }
   ],
   "source": [
    "def Fact(n):\n",
    "    if n == 1:\n",
    "        return 1\n",
    "    else:\n",
    "        return n * (Fact(n-1))\n",
    "    \n",
    "n = int(input(\"Enter Number:\"))\n",
    "factorial = Fact(n)\n",
    "print(factorial)"
   ]
  },
  {
   "cell_type": "code",
   "execution_count": null,
   "metadata": {},
   "outputs": [],
   "source": []
  }
 ],
 "metadata": {
  "kernelspec": {
   "display_name": "Python 3",
   "language": "python",
   "name": "python3"
  },
  "language_info": {
   "codemirror_mode": {
    "name": "ipython",
    "version": 3
   },
   "file_extension": ".py",
   "mimetype": "text/x-python",
   "name": "python",
   "nbconvert_exporter": "python",
   "pygments_lexer": "ipython3",
   "version": "3.7.5"
  }
 },
 "nbformat": 4,
 "nbformat_minor": 2
}
